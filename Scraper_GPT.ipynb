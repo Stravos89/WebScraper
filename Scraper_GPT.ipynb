{
 "cells": [
  {
   "cell_type": "code",
   "execution_count": null,
   "id": "f1236705",
   "metadata": {},
   "outputs": [],
   "source": [
    "import requests # Importa a biblioteca requests para fazer requisições HTTP\n",
    "from bs4 import BeautifulSoup # Importa a classe BeautifulSoup da biblioteca bs4 para manipular HTML\n",
    "import csv # Importa a biblioteca csv para ler e escrever arquivos CSV\n",
    "\n",
    "def pesquisar_produtos_mercado_livre(produto, num_paginas, preco_min, preco_max): # Define a função pesquisar_produtos_mercado_livre com os parâmetros produto, num_paginas, preco_min e preco_max\n",
    "    url_base = \"https://lista.mercadolivre.com.br/{}\" # Define a URL base para pesquisar produtos no Mercado Livre\n",
    "    produtos = [] # Cria uma lista vazia para armazenar os produtos encontrados\n",
    "    \n",
    "    for i in range(num_paginas):  # Loop que percorre o número de páginas informado\n",
    "        url = url_base.format(produto) + f\"_Desde_{i*50+1}\"  # Formata a URL incluindo o nome do produto e a posição inicial da página\n",
    "        resposta = requests.get(url)  # Faz uma requisição GET para a URL e armazena a resposta\n",
    "        soup = BeautifulSoup(resposta.text, \"html.parser\")  # Cria um objeto BeautifulSoup a partir do texto da resposta HTML\n",
    "        itens = soup.find_all(\"li\", class_=\"ui-search-layout__item\")  # Encontra todos os elementos li com a classe \"ui-search-layout__item\" e armazena na variável itens\n",
    "\n",
    "        for item in itens:  # Loop que percorre cada item da lista de itens encontrados\n",
    "            titulo = item.find(\"h2\", class_=\"ui-search-item__title\").text.strip()  # Extrai o título do produto e remove espaços em branco\n",
    "            link = item.find(\"a\", class_=\"ui-search-link\")[\"href\"]  # Extrai o link do produto\n",
    "            preco_tags = item.find_all(\"span\", class_=\"price-tag-fraction\")  # Encontra todas as tags span com a classe \"price-tag-fraction\"\n",
    "            preco_original = preco_tags[0].text.strip()  # Extrai o preço original do produto\n",
    "            preco_original_float = float(preco_original.replace(\".\", \"\").replace(\",\", \".\"))  # Converte o preço original para um número float\n",
    "\n",
    "            if len(preco_tags) > 1:  # Verifica se há mais de uma tag de preço (preço com desconto)\n",
    "                preco_desconto = preco_tags[1].text.strip()  # Extrai o preço com desconto\n",
    "            else:\n",
    "                preco_desconto = preco_original  # Caso não haja desconto, atribui o preço original\n",
    "\n",
    "            preco_desconto_float = float(preco_desconto.replace(\".\", \"\").replace(\",\", \".\"))  # Converte o preço com desconto para um número float\n",
    "\n",
    "            if preco_min <= preco_desconto_float <= preco_max:  # Verifica se o preço com desconto está dentro do intervalo especificado\n",
    "                produtos.append({\"titulo\": titulo, \"preco_original\": preco_original, \"preco_desconto\": preco_desconto, \"link\": link})  # Adiciona o produto à lista de produtos\n",
    "\n",
    "    return produtos  # Retorna a lista de produtos encontrados\n",
    "def exportar_para_csv(produtos, nome_arquivo): # Define a função exportar_para_csv com os parâmetros produtos e nome_arquivo\n",
    "    with open(nome_arquivo, mode='w', newline='', encoding='utf-8') as arquivo_csv: # Abre (ou cria) o arquivo CSV no modo de escrita, com codificação UTF-8\n",
    "        campos = [\"titulo\", \"preco_original\", \"preco_desconto\", \"link\"] # Define os campos que serão incluídos no arquivo CSV\n",
    "        escritor = csv.DictWriter(arquivo_csv, fieldnames=campos) # Cria um objeto DictWriter para escrever dicionários no arquivo CSV\n",
    "        \n",
    "        escritor.writeheader()  # Escreve o cabeçalho no arquivo CSV com os nomes dos campos\n",
    "        for produto in produtos:  # Loop que percorre cada produto na lista de produtos\n",
    "            escritor.writerow(produto)  # Escreve uma linha no arquivo CSV com os dados do produto\n",
    "\n",
    "produto = input(\"Digite o produto que você deseja pesquisar: \") # Solicita ao usuário o nome do produto que deseja pesquisar\n",
    "num_paginas = int(input(\"Digite o número de páginas que deseja percorrer: \")) # Solicita ao usuário o número de páginas que deseja percorrer\n",
    "preco_min = float(input(\"Digite o valor mínimo do produto: \").replace(\",\", \".\")) # Solicita ao usuário o valor mínimo do produto e converte para float\n",
    "preco_max = float(input(\"Digite o valor máximo do produto: \").replace(\",\", \".\")) # Solicita ao usuário o valor máximo do produto e converte para float\n",
    "\n",
    "resultados = pesquisar_produtos_mercado_livre(produto, num_paginas, preco_min, preco_max) # Chama a função pesquisar_produtos_mercado_livre e armazena os resultados na variável resultados\n",
    "nome_arquivo = \"resultados.csv\" # Define o nome do arquivo CSV que será criado\n",
    "exportar_para_csv(resultados, nome_arquivo) # Chama a função exportar_para_csv para escrever os resultados no arquivo CSV\n",
    "\n",
    "print(f\"Os resultados foram exportados para o arquivo '{nome_arquivo}'.\") # Exibe uma mensagem informando que os resultados foram exportados para o arquivo CSV"
   ]
  },
  {
   "cell_type": "code",
   "execution_count": null,
   "id": "eafd9742",
   "metadata": {},
   "outputs": [],
   "source": []
  }
 ],
 "metadata": {
  "kernelspec": {
   "display_name": "Python 3 (ipykernel)",
   "language": "python",
   "name": "python3"
  },
  "language_info": {
   "codemirror_mode": {
    "name": "ipython",
    "version": 3
   },
   "file_extension": ".py",
   "mimetype": "text/x-python",
   "name": "python",
   "nbconvert_exporter": "python",
   "pygments_lexer": "ipython3",
   "version": "3.10.9"
  }
 },
 "nbformat": 4,
 "nbformat_minor": 5
}
